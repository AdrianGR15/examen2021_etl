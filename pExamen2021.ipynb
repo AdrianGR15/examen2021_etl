{
 "cells": [
  {
   "cell_type": "markdown",
   "metadata": {},
   "source": [
    "# TAREA FINAL: Datos de vivienda\n",
    "\n",
    "## Adrián González Retamosa\n",
    "\n",
    "<p> El negocio inmobiliario es uno de los motores de la economía de España, el carácter turístico de nuesta península hace que sean muchos los inversores extranjeros que se decidan por buscar una inversión de bajo riesgos en nuestras ciudades costeras o grandes urbes. \n",
    "Muchas de estas inversiones se hacen sobre grandes bolsas de inmuebles que deben ser analizados previamente para comprobar la rentabilidad del porfolio </p>\n",
    "\n",
    "<!-- <p> En este caso vamos a trabajar con una tabla que contienen información de distintos inmuebles repartidos por una zona específica, sus carácterísticas y su precio </p>  -->"
   ]
  },
  {
   "cell_type": "markdown",
   "metadata": {},
   "source": [
    "Todas las cuestiones se deben realizar sobre el conjunto de casos que representen viviendas ubicadas en zonas residenciales **(alta, media y baja densidad)**"
   ]
  },
  {
   "cell_type": "markdown",
   "metadata": {},
   "source": [
    "**MUY IMPORTANTE:** En las otras prácticas he detectado colaboraciones involucrando varias personas y he sido flexible aunque a algunos os lo he mencionado en las correcciones, porque al final el trabajo de analista de datos es un trabajo colaborativo. Sin embargo, este trabajo es individual, así que cuidado con las colaboraciones."
   ]
  },
  {
   "cell_type": "markdown",
   "metadata": {},
   "source": [
    "Las variables de las que se compone el dataset son:"
   ]
  },
  {
   "cell_type": "markdown",
   "metadata": {},
   "source": [
    "|NOMBRE VARIABLE|DESCRIPTOR|VALORES|\n",
    "| --- | --- | --- |\n",
    "|Order|Variable de identificación|1 a 2930|\n",
    "|MS Zoning|Zona de ubicación de la vivienda|\"A rural, C comercial, FV residencial flotante, I industrial, RH residencial alta densidad, RL residencial baja densidad, RM residencial media densidad\"|\n",
    "|Lot Frontage|Longitud de la fachada en pies||\n",
    "|Lot Area|Superficie de la vivienda en pies cuadrados||\n",
    "|Land Contour|Contorno del terreno circundante|\"Lvl llano, Bnk Tipo bancal, HLS Ladera, Low Depresión\"|\n",
    "|Land Slope|Tipo de pendiente de la vivienda|\" Gtl pendiente suave, Mod pendiente moderada, Sev fuerte pendiente\"|\n",
    "|Overall Qual|Grado de calidad de materiales y acabado de la vivienda|De 1 (Muy pobre) a 10 (Excelente)|\n",
    "|Year Built|Año de construccion de la vivienda||\n",
    "|Year Remod/Add|Año de última reforma de la vivienda||\n",
    "|Mas Vnr Type|Tipo de revestimiento exterior|\" BrkCmn Ladrillo normal, BrkFace Ladrillo visto, CBlock Bloque de cemento, None Ninguna, Stone Piedra \"|\n",
    "|Exter Qual|Calidad de revestimiento exterior|\"Ex Excelente,Gd Bueno,TA Media,Fa Justo\"|\n",
    "|Bsmt Cond|Estado general del sótano|\"Ex Excelente, Gd Bueno, TA Media, Fa Justo, Po Pobre,Ss sin sótano\"|\n",
    "|Total Bsmt SF|Superficie del sótano en pies cuadrados|\n",
    "|Heating QC|Calidad de la calefacción|\"Ex Excelente,Gd Bueno,TA Media,Fa Justo,Po Pobre\"|\n",
    "|Central Air|Aire acondicionado centralizado|\"N No Y Sí\"|\n",
    "|Full Bath|Número de baños completo en planta||\n",
    "|Half Bath|Número de aseos en planta||\n",
    "|Bedroom AbvGr|Número de dormitorios en planta||\n",
    "|Kitchen AbvGr|Número de cocinas en planta||\n",
    "|Kitchen Qual|Calidad de cocinas|\"Ex Excelente,Gd Bueno,TA Media,Fa Justo,Po Pobre\"|\n",
    "|TotRms AbvGrd|Número total de habitaciones excluidos los cuartos de baño||\n",
    "|Garage Cars|Número de plazas de garaje||\n",
    "|Garage Area|Superficie del garaje|||\n",
    "|Garage Cond|Estado del garaje|\"Ex Excelente,Gd Bueno,TA Media,Fa Justo,Po Pobre,Sg sin garaje\"|\n",
    "|Pool Area|Superficie de la piscina en pies cuadrados|\n",
    "|Pool QC|Calidad de la piscina|\"Ex Excelente,Gd Bueno,TA Media,Fa Justo,Sp no hay piscina\"|\n",
    "|Mo Sold|mes de venta||\n",
    "|Yr Sold|año de venta||\n",
    "|SalePrice|precio de venta en dólares||"
   ]
  },
  {
   "cell_type": "markdown",
   "metadata": {},
   "source": [
    "Recomiendo al leer los datos, eliminar espacios de los nombres de las columnas, realiza un pequeño análisis inicial de los mismos. No olvides fijarte en los tipos de variables, que variables pueden tener tipos confundidos y corrige los. Sobre todo, trabaja con las fechas."
   ]
  },
  {
   "cell_type": "markdown",
   "metadata": {},
   "source": [
    "**NOTA:** Las tareas complementarias sirven para subir nota. El resto de preguntas valen igual y suman 10 puntos."
   ]
  },
  {
   "cell_type": "markdown",
   "metadata": {},
   "source": [
    "## 1. Inicializar y cargar el contexto spark"
   ]
  },
  {
   "cell_type": "code",
   "execution_count": 2,
   "metadata": {},
   "outputs": [],
   "source": [
    "#Cargamos spark\n",
    "from pyspark import SparkContext\n",
    "sc = SparkContext()"
   ]
  },
  {
   "cell_type": "code",
   "execution_count": 3,
   "metadata": {},
   "outputs": [],
   "source": [
    "# Cargamos las librerias\n",
    "import pandas as pd\n",
    "import matplotlib.pyplot as plt\n",
    "import numpy as np\n",
    "import seaborn as sns"
   ]
  },
  {
   "cell_type": "code",
   "execution_count": 4,
   "metadata": {},
   "outputs": [],
   "source": [
    "# Cargamos los datos\n",
    "df = sc.textFile(\"BDpracticafinalCSV.csv\")"
   ]
  },
  {
   "cell_type": "code",
   "execution_count": 5,
   "metadata": {},
   "outputs": [
    {
     "data": {
      "text/plain": [
       "['Order;MS Zoning;Lot Frontage;Lot Area;Land Contour;Land Slope;Overall Qual;Year Built;Year Remod/Add;Mas Vnr Type;Exter Qual;Bsmt Cond;Total Bsmt SF;Heating QC;Central Air;Full Bath;Half Bath;Bedroom AbvGr;Kitchen AbvGr;Kitchen Qual;TotRms AbvGrd;Garage Cars;Garage Area;Garage Cond;Pool Area;Pool QC;Mo Sold;Yr Sold;SalePrice',\n",
       " '1;RL;141;31770;Lvl;Gtl;6;1960;1960;Stone;TA;Gd;1080;Fa;Y;1;0;3;1;TA;7;2;528;TA;0;Sp;5;2010;215000']"
      ]
     },
     "execution_count": 5,
     "metadata": {},
     "output_type": "execute_result"
    }
   ],
   "source": [
    "# Vemos como se presentan para el parseado\n",
    "df.take(2)"
   ]
  },
  {
   "cell_type": "markdown",
   "metadata": {},
   "source": [
    "Quitamos la cabecera a nuestros datos para trabajar de forma mas comoda y realizamos el parseado"
   ]
  },
  {
   "cell_type": "code",
   "execution_count": 6,
   "metadata": {},
   "outputs": [],
   "source": [
    "datos_c = df.first() # guardamos solo la cabecera\n",
    "datos_p = sc.parallelize([datos_c]) # hacemos la funcion con el objeto de la cabecera creado\n",
    "datos = df.subtract(datos_p) # eliminamos la cabecera"
   ]
  },
  {
   "cell_type": "code",
   "execution_count": 7,
   "metadata": {},
   "outputs": [
    {
     "data": {
      "text/plain": [
       "['18;RL;88;11394;Lvl;Gtl;9;2010;2010;Stone;Gd;TA;1856;Ex;Y;1;1;1;1;Ex;8;3;834;TA;0;Sp;6;2010;394432']"
      ]
     },
     "execution_count": 7,
     "metadata": {},
     "output_type": "execute_result"
    }
   ],
   "source": [
    "# Sin cabecera\n",
    "datos.take(1)"
   ]
  },
  {
   "cell_type": "code",
   "execution_count": 8,
   "metadata": {},
   "outputs": [],
   "source": [
    "# Separamos por ;\n",
    "datos = datos.map(lambda x: x.split(';'))"
   ]
  },
  {
   "cell_type": "code",
   "execution_count": 9,
   "metadata": {},
   "outputs": [
    {
     "data": {
      "text/plain": [
       "[['18',\n",
       "  'RL',\n",
       "  '88',\n",
       "  '11394',\n",
       "  'Lvl',\n",
       "  'Gtl',\n",
       "  '9',\n",
       "  '2010',\n",
       "  '2010',\n",
       "  'Stone',\n",
       "  'Gd',\n",
       "  'TA',\n",
       "  '1856',\n",
       "  'Ex',\n",
       "  'Y',\n",
       "  '1',\n",
       "  '1',\n",
       "  '1',\n",
       "  '1',\n",
       "  'Ex',\n",
       "  '8',\n",
       "  '3',\n",
       "  '834',\n",
       "  'TA',\n",
       "  '0',\n",
       "  'Sp',\n",
       "  '6',\n",
       "  '2010',\n",
       "  '394432']]"
      ]
     },
     "execution_count": 9,
     "metadata": {},
     "output_type": "execute_result"
    }
   ],
   "source": [
    "datos.take(1)"
   ]
  },
  {
   "cell_type": "markdown",
   "metadata": {},
   "source": [
    "Como se nos indica en las instrucciones de la tarea solo trabajaremos con los viviendas de zona residencial, ya sean de alta, media o baja densidad. Por lo que solo nos quedaremos con las observaciones que tengan en la columna MS Zoning los valores RH, RL y RM, como nos indica el diccionario de los datos"
   ]
  },
  {
   "cell_type": "code",
   "execution_count": 10,
   "metadata": {},
   "outputs": [
    {
     "data": {
      "text/plain": [
       "['C', 'Rl', 'FV', 'A', 'rL', 'RM', 'RL', 'RH', 'I']"
      ]
     },
     "execution_count": 10,
     "metadata": {},
     "output_type": "execute_result"
    }
   ],
   "source": [
    "datos.map(lambda x: x[1]).distinct().take(9)"
   ]
  },
  {
   "cell_type": "code",
   "execution_count": 11,
   "metadata": {},
   "outputs": [],
   "source": [
    "residencial = datos.filter(lambda x: (x[1] == 'RH' or x[1] == 'RL' or x[1] == 'RM'))"
   ]
  },
  {
   "cell_type": "code",
   "execution_count": 12,
   "metadata": {},
   "outputs": [
    {
     "data": {
      "text/plain": [
       "['RM', 'RL', 'RH']"
      ]
     },
     "execution_count": 12,
     "metadata": {},
     "output_type": "execute_result"
    }
   ],
   "source": [
    "# Como observamos ya solo trabajremos con este tipo de vivienda\n",
    "residencial.map(lambda x: x[1]).distinct().take(3)"
   ]
  },
  {
   "cell_type": "code",
   "execution_count": 13,
   "metadata": {},
   "outputs": [
    {
     "data": {
      "text/plain": [
       "[['18',\n",
       "  'RL',\n",
       "  '88',\n",
       "  '11394',\n",
       "  'Lvl',\n",
       "  'Gtl',\n",
       "  '9',\n",
       "  '2010',\n",
       "  '2010',\n",
       "  'Stone',\n",
       "  'Gd',\n",
       "  'TA',\n",
       "  '1856',\n",
       "  'Ex',\n",
       "  'Y',\n",
       "  '1',\n",
       "  '1',\n",
       "  '1',\n",
       "  '1',\n",
       "  'Ex',\n",
       "  '8',\n",
       "  '3',\n",
       "  '834',\n",
       "  'TA',\n",
       "  '0',\n",
       "  'Sp',\n",
       "  '6',\n",
       "  '2010',\n",
       "  '394432']]"
      ]
     },
     "execution_count": 13,
     "metadata": {},
     "output_type": "execute_result"
    }
   ],
   "source": [
    "# Comprobamos la estructura de nuestro datos antes de empezar la practica\n",
    "residencial.take(1)"
   ]
  },
  {
   "cell_type": "markdown",
   "metadata": {},
   "source": [
    "## 2. Cuántas viviendas distintas encontramos en el dataset? ¿Se repite alguna? Tiene sentido que haya duplicadas? ¿Qué podemos hacer con las duplicadas?"
   ]
  },
  {
   "cell_type": "code",
   "execution_count": 14,
   "metadata": {},
   "outputs": [
    {
     "name": "stdout",
     "output_type": "stream",
     "text": [
      "El numero de viviendas distintas es de 2758\n",
      "El numero de observaciones es de 2760\n",
      "El numero de viviendas repetidas es de 2\n"
     ]
    }
   ],
   "source": [
    "n_casas = residencial.map(lambda x: x[0]).distinct().count()\n",
    "print(f'El numero de viviendas distintas es de {n_casas}')\n",
    "n_observaciones = residencial.map(lambda x: x[0]).count()\n",
    "print(f'El numero de observaciones es de {n_observaciones}')\n",
    "print(f'El numero de viviendas repetidas es de {n_observaciones - n_casas}')"
   ]
  },
  {
   "cell_type": "markdown",
   "metadata": {},
   "source": [
    "Vemos que hay 2 observaciones repetidas. Si es posible que haya identificadores duplicados ya que una misma vivienda se ha podido vender en mas de una ocasion. Con las 2 observaciones repetidas podriamos quedarnos solo con las mas actuales, es decir, con la ultima transiccion que han tenido."
   ]
  },
  {
   "cell_type": "markdown",
   "metadata": {},
   "source": [
    "## 3. ¿Podrías decirme el total de inmuebles y el precio medio (Sale Price) de cada zona (MS Zoning)?"
   ]
  },
  {
   "cell_type": "markdown",
   "metadata": {},
   "source": [
    "Para este ejercicio utilizaremos la funcion 'combineByKey' para ir contando el numero de inmuebles que hay de cada tipo de vivienda residencial, asi como la suma de sus precios. En un paso posterior dividiremos estos dos valores para obtener la media del precio por zona."
   ]
  },
  {
   "cell_type": "code",
   "execution_count": 15,
   "metadata": {},
   "outputs": [
    {
     "data": {
      "text/plain": [
       "{'RM': (58573004.0, 462), 'RL': (434060331.0, 2271), 'RH': (3683334.0, 27)}"
      ]
     },
     "execution_count": 15,
     "metadata": {},
     "output_type": "execute_result"
    }
   ],
   "source": [
    "tipo_residencial= residencial.map(lambda x: (x[1], float(x[-1]))).combineByKey( # cojo las filas de la zona y del indice\n",
    "    (lambda x: (x, 1)), # coge la fila de los zonas y añade 1 cada vez que sale ese zona\n",
    "    (lambda y, h: (y[0]+h, y[1]+1)), # Va sumando los valores por la key \n",
    "    (lambda z, j: (z[0]+j[0], z[1]+j[1]))) # suma el total \n",
    "\n",
    "tipo_residencial.collectAsMap() # esto es la suma total y las veces que aparece cada zona, ahora necesitamos calcular las medias"
   ]
  },
  {
   "cell_type": "code",
   "execution_count": 16,
   "metadata": {},
   "outputs": [],
   "source": [
    "# Calculamos la media\n",
    "tipo_residencial = tipo_residencial.map(lambda x: (x[0], round(x[1][0]/x[1][1], 3), x[1][1]))"
   ]
  },
  {
   "cell_type": "code",
   "execution_count": 17,
   "metadata": {},
   "outputs": [
    {
     "data": {
      "text/plain": [
       "[('RM', 126781.394, 462), ('RL', 191131.806, 2271), ('RH', 136419.778, 27)]"
      ]
     },
     "execution_count": 17,
     "metadata": {},
     "output_type": "execute_result"
    }
   ],
   "source": [
    "tipo_residencial.take(3) # aqui vemos el la media del precio y el total de inmuebles para cada tipo\n",
    "# la relacion con la densidad y el precio es positiva, a mas densidad mas precio, oferta y demanda. \n",
    "# Tambien comprobamos que la mayoria de los pisos es de intensidad baja"
   ]
  },
  {
   "cell_type": "markdown",
   "metadata": {},
   "source": [
    "## 4. Media de Total Bsmt SF por cada década de construcción calculada a partir de Year Built. \n",
    "## 4.1 ¿Cuál es la decada de construcción con viviendas mejor acondicionadas para el frío (Heating QC)?"
   ]
  },
  {
   "cell_type": "markdown",
   "metadata": {},
   "source": [
    "En este ejercicio tendremos que ver cuales son los años que estamos analizando para diferenciar por decada. Para ello generaremos una funcion que vaya distinguiendo."
   ]
  },
  {
   "cell_type": "code",
   "execution_count": 18,
   "metadata": {},
   "outputs": [
    {
     "name": "stdout",
     "output_type": "stream",
     "text": [
      "2010\n",
      "1872\n"
     ]
    }
   ],
   "source": [
    "# Vemos que años estan en nuestros datos\n",
    "print(residencial.map(lambda x: x[7]).max()) # el piso mas nuevo es del 2010\n",
    "print(residencial.map(lambda x: x[7]).min()) # el piso mas viejo es del 1872\n",
    "# Por lo que dividiremos por decada desde el 1872"
   ]
  },
  {
   "cell_type": "code",
   "execution_count": 19,
   "metadata": {},
   "outputs": [],
   "source": [
    "# Creamos la funcion\n",
    "def decada(x):\n",
    "  if x < 1880:\n",
    "    return ('1870s')\n",
    "  elif x < 1890:\n",
    "    return ('1880s')\n",
    "  elif x < 1900 :\n",
    "    return ('1890s')\n",
    "  elif x < 1910 :\n",
    "    return ('1900s')\n",
    "  elif x < 1920 :\n",
    "    return ('1910s')\n",
    "  elif x < 1930 :\n",
    "    return ('1920s')\n",
    "  elif x < 1940 :\n",
    "    return ('1930s')\n",
    "  elif x < 1950 :\n",
    "    return ('1940s')\n",
    "  elif x < 1960 :\n",
    "    return ('1950s')\n",
    "  elif x < 1970 :\n",
    "    return ('1960s')\n",
    "  elif x < 1980 :\n",
    "    return ('1970s')\n",
    "  elif x < 1990 :\n",
    "    return ('1980s')\n",
    "  elif x < 2000 :\n",
    "    return ('1990s')\n",
    "  else:\n",
    "    return ('2000s')"
   ]
  },
  {
   "cell_type": "markdown",
   "metadata": {},
   "source": [
    "Recordar que necesitamos saber la superficie del sotano en pies cuadrados, por lo que cogeremos la columna transformada de años mas esta\n",
    "\n"
   ]
  },
  {
   "cell_type": "code",
   "execution_count": 20,
   "metadata": {},
   "outputs": [
    {
     "data": {
      "text/plain": [
       "[('2000s', 1856.0), ('1970s', 1542.0), ('1970s', 882.0), ('1970s', 525.0)]"
      ]
     },
     "execution_count": 20,
     "metadata": {},
     "output_type": "execute_result"
    }
   ],
   "source": [
    "# Aplicamos esta funcion a la columna de fecha de cosntruccion para poder agrupar con posterioridad\n",
    "decadas_sotano = residencial.map(lambda x: (int(x[7]), float(x[12]), decada(int(x[7]))))\n",
    "# Solo nos quedamos con la columna de la decada y de los pies cuadrados de sotano\n",
    "decadas_sotano = decadas_sotano.map(lambda x: (x[2], x[1]))\n",
    "decadas_sotano.take(4)"
   ]
  },
  {
   "cell_type": "markdown",
   "metadata": {},
   "source": [
    "Al igual que en el ejercico pasado utilizaremos la funcion 'combineByKey' para poder calcular la media de la superficie"
   ]
  },
  {
   "cell_type": "code",
   "execution_count": 21,
   "metadata": {},
   "outputs": [
    {
     "data": {
      "text/plain": [
       "[('1870s', 761.0),\n",
       " ('1880s', 836.0),\n",
       " ('1890s', 885.583),\n",
       " ('1900s', 720.139),\n",
       " ('1910s', 788.301),\n",
       " ('1920s', 833.937),\n",
       " ('1930s', 769.916),\n",
       " ('1940s', 706.926),\n",
       " ('1950s', 968.296),\n",
       " ('1960s', 1082.672),\n",
       " ('1970s', 953.918),\n",
       " ('1980s', 1086.0),\n",
       " ('1990s', 1138.105),\n",
       " ('2000s', 1347.74)]"
      ]
     },
     "execution_count": 21,
     "metadata": {},
     "output_type": "execute_result"
    }
   ],
   "source": [
    "media_decada_sup = decadas_sotano.combineByKey(\n",
    "    (lambda x: (x, 1)), \n",
    "    (lambda y, h: (y[0]+h, y[1]+1)), \n",
    "    (lambda z, j: (z[0]+j[0], z[1]+j[1])))  \n",
    "# En este paso calculamos ya la media (dividiendo la suma y el total de apariciones) y ordenamos por decada\n",
    "media_decada_sup = media_decada_sup.map(lambda x: (x[0], round(x[1][0]/x[1][1], 3)))\n",
    "media_decada_sup.sortBy(lambda x: x[0]).take(14)"
   ]
  },
  {
   "cell_type": "markdown",
   "metadata": {},
   "source": [
    "Observamos que, en lineas generales, en cada decada la superficie del sotano aumenta"
   ]
  },
  {
   "cell_type": "markdown",
   "metadata": {},
   "source": [
    "* En este ejercicio tambien se nos pide que digamos que decada es la que mejor calidad presenta en la calefaccion. Para ello craremos una escala del 0 al 4, en nivel, para despues calcular la media de cada decada.\n",
    "* Por lo que la decada con un numero mayor en media es la que mejor calefaccion present\n"
   ]
  },
  {
   "cell_type": "code",
   "execution_count": 22,
   "metadata": {},
   "outputs": [
    {
     "data": {
      "text/plain": [
       "['Fa', 'TA', 'Po', 'Gd', 'Ex']"
      ]
     },
     "execution_count": 22,
     "metadata": {},
     "output_type": "execute_result"
    }
   ],
   "source": [
    "# Vemos cuales son los tipos de categoria de calefaccion\n",
    "residencial.map(lambda x: x[13]).distinct().take(6) "
   ]
  },
  {
   "cell_type": "code",
   "execution_count": 23,
   "metadata": {},
   "outputs": [],
   "source": [
    "# Creamos la funcion\n",
    "def calef(x):\n",
    "  if x == 'Ex':\n",
    "    return 4\n",
    "  elif x == 'Gd':\n",
    "    return 3\n",
    "  elif x == 'TA':\n",
    "    return 2\n",
    "  elif x == 'Fa' :\n",
    "    return 1\n",
    "  else:\n",
    "    return 0"
   ]
  },
  {
   "cell_type": "code",
   "execution_count": 24,
   "metadata": {},
   "outputs": [
    {
     "data": {
      "text/plain": [
       "[('2000s', 4), ('1970s', 2)]"
      ]
     },
     "execution_count": 24,
     "metadata": {},
     "output_type": "execute_result"
    }
   ],
   "source": [
    "# Aplicamos esta funcion a la columna de fecha de cosntruccion para poder agrupar con posterioridad\n",
    "decadas_c = residencial.map(lambda x: (int(x[7]), x[13], decada(int(x[7])), calef(x[13]))).map(lambda y: (y[2], int(y[3])))\n",
    "# Quitamos la columna de años y tipo de calefaccion\n",
    "decadas_c.take(2) # 4 seria excelente y 2 Justo"
   ]
  },
  {
   "cell_type": "code",
   "execution_count": 25,
   "metadata": {},
   "outputs": [
    {
     "data": {
      "text/plain": [
       "[('2000s', 3.962)]"
      ]
     },
     "execution_count": 25,
     "metadata": {},
     "output_type": "execute_result"
    }
   ],
   "source": [
    "# Hacemos, otra vez, el combineByKey para calcular la suma y luego poder dividir entre el numero de observaciones\n",
    "s_decadas_c = decadas_c.combineByKey(\n",
    "    (lambda x: (x, 1)), \n",
    "    (lambda y, h: (y[0]+h, y[1]+1)), \n",
    "    (lambda z, j: (z[0]+j[0], z[1]+j[1])))  \n",
    "# Como antes imprimimos primer la suma total de superficie por decada y el numero de veces que sale cada decada\n",
    "m_decadas_c = s_decadas_c.map(lambda x: (x[0], round(x[1][0]/x[1][1], 3)))\n",
    "m_decadas_c.sortBy(lambda x: x[0], False).take(1)\n",
    "# Como es normal, la decada mas actual de construccion es la que en media mejor calefaccion presenta"
   ]
  },
  {
   "cell_type": "markdown",
   "metadata": {},
   "source": [
    "La mejor seria la decada de los 2000, ya que en media tienen una calefaccion casi excelente"
   ]
  },
  {
   "cell_type": "markdown",
   "metadata": {},
   "source": [
    "## 5. ¿Cuáles son las 10 viviendas que se vendieron por un precio más elevado por metro cuadrado en el año 2009?"
   ]
  },
  {
   "cell_type": "markdown",
   "metadata": {},
   "source": [
    "+ En este ejercicio nos quedaremos solo con los pisos que se vendieron en el 2009.\n",
    "+ Convertiremos la columna de superfice de la casa a m2 ( m2 = 10,76 pies). dividiremos esa columna por ese valor \n",
    "+ Ordenaremos para coger solo las 10 mayores"
   ]
  },
  {
   "cell_type": "code",
   "execution_count": 26,
   "metadata": {},
   "outputs": [
    {
     "data": {
      "text/plain": [
       "[('391', 2009, 942.3791821561339, 165000.0),\n",
       " ('409', 2009, 457.9925650557621, 143750.0)]"
      ]
     },
     "execution_count": 26,
     "metadata": {},
     "output_type": "execute_result"
    }
   ],
   "source": [
    "# Nos quedamos solo con los pisos de venta en 2009, de las columna de superfice, precio e ID\n",
    "año2009 = residencial.map(lambda x: (x[0], int(x[-2]), (float(x[3])/10.76), float(x[-1]))).filter(lambda y: y[1] == 2009)\n",
    "año2009.take(2)"
   ]
  },
  {
   "cell_type": "code",
   "execution_count": 27,
   "metadata": {},
   "outputs": [
    {
     "data": {
      "text/plain": [
       "[('936', 1026.34),\n",
       " ('934', 990.67),\n",
       " ('464', 820.76),\n",
       " ('935', 807.67),\n",
       " ('408', 765.37),\n",
       " ('407', 755.76),\n",
       " ('405', 717.33),\n",
       " ('933', 714.02),\n",
       " ('403', 710.93),\n",
       " ('411', 700.82)]"
      ]
     },
     "execution_count": 27,
     "metadata": {},
     "output_type": "execute_result"
    }
   ],
   "source": [
    "# Ahora calcularemos el precio por m2 para cada id\n",
    "# Primero convertimo a m2, dividiendo el valor en pies por 10.76, y despues ordenamos para ver cual es el mas caro\n",
    "precio_m2 = año2009.map(lambda x: (x[0], round(float(x[3]/x[2]),2))).sortBy(lambda y: y[1], False)\n",
    "precio_m2.take(10)"
   ]
  },
  {
   "cell_type": "markdown",
   "metadata": {},
   "source": [
    "Estos serian los ID con precio por m2 mas caro. el mas caro seria el '936' con un valor de 1026 dolares por metro cuadrado"
   ]
  },
  {
   "cell_type": "markdown",
   "metadata": {},
   "source": [
    "## 6. Media anual por zonas del precio de venta y metros cuadrados."
   ]
  },
  {
   "cell_type": "markdown",
   "metadata": {},
   "source": [
    "Se nos pide encontrar el precio medio por zona en cada año, a la vez que el numero medio de m2 para cada una de ella.\n",
    "\n",
    "Este ejercicio le plantearemos de la siguiente forma:\n",
    "+ Haremos 3 divisones de piso, una por cada densidad de la zona residencial \n",
    "+ Calcularemos para cada zona el precio medio en cada uno de los años de venta\n",
    "+ Calcularemos los m2 cuadrados medio que tenia cada piso, de cada zona, que se vendio\n"
   ]
  },
  {
   "cell_type": "markdown",
   "metadata": {},
   "source": [
    "ALTA"
   ]
  },
  {
   "cell_type": "markdown",
   "metadata": {},
   "source": [
    "Media de precio por año en la zona de intensidad alta"
   ]
  },
  {
   "cell_type": "code",
   "execution_count": 28,
   "metadata": {},
   "outputs": [
    {
     "data": {
      "text/plain": [
       "[(2008, 150333.333),\n",
       " (2007, 147250.0),\n",
       " (2006, 140316.667),\n",
       " (2010, 126280.0),\n",
       " (2009, 116206.8)]"
      ]
     },
     "execution_count": 28,
     "metadata": {},
     "output_type": "execute_result"
    }
   ],
   "source": [
    "alta_p = residencial.map(lambda x: (x[1], int(x[-2]), float(x[-1]))).filter(lambda y: y[0] == 'RH')\n",
    "precio_alta_año= alta_p.map(lambda x: (x[1], x[2])).combineByKey( \n",
    "    (lambda x: (x, 1)), \n",
    "    (lambda y, h: (y[0]+h, y[1]+1)), \n",
    "    (lambda z, j: (z[0]+j[0], z[1]+j[1]))) \n",
    "media_alta_año = precio_alta_año.map(lambda x: (x[0], round(x[1][0]/x[1][1], 3)))\n",
    "media_alta_año.sortBy(lambda x: x[1], False).take(5)\n",
    "# El años que mas caro se vendieron los pisos, en media, fue en 2008, para densidad alta"
   ]
  },
  {
   "cell_type": "markdown",
   "metadata": {},
   "source": [
    "Media de metros cuadrados de los pisos vendidos en cada año para la intensidad alta"
   ]
  },
  {
   "cell_type": "code",
   "execution_count": 29,
   "metadata": {
    "scrolled": true
   },
   "outputs": [
    {
     "data": {
      "text/plain": [
       "[(2008, 766.419),\n",
       " (2010, 753.309),\n",
       " (2006, 659.805),\n",
       " (2007, 651.557),\n",
       " (2009, 647.379)]"
      ]
     },
     "execution_count": 29,
     "metadata": {},
     "output_type": "execute_result"
    }
   ],
   "source": [
    "alta_s = residencial.map(lambda x: (x[1], int(x[-2]), (float(x[3])/10.76))).filter(lambda y: y[0] == 'RH')\n",
    "m2_alta_año= alta_s.map(lambda x: (x[1], x[2])).combineByKey( \n",
    "    (lambda x: (x, 1)), \n",
    "    (lambda y, h: (y[0]+h, y[1]+1)), \n",
    "    (lambda z, j: (z[0]+j[0], z[1]+j[1]))) \n",
    "media_alta_año_m2 = m2_alta_año.map(lambda x: (x[0], round(x[1][0]/x[1][1], 3)))\n",
    "media_alta_año_m2.sortBy(lambda x: x[1], False).take(5)\n",
    "# En media los pisos mas grandes de intensidad alta se vendieron en 2008"
   ]
  },
  {
   "cell_type": "markdown",
   "metadata": {},
   "source": [
    "MEDIA"
   ]
  },
  {
   "cell_type": "markdown",
   "metadata": {},
   "source": [
    "Media de precio por año en la zona de intensidad media"
   ]
  },
  {
   "cell_type": "code",
   "execution_count": 30,
   "metadata": {},
   "outputs": [
    {
     "data": {
      "text/plain": [
       "[(2008, 133336.122),\n",
       " (2007, 128947.621),\n",
       " (2006, 127502.637),\n",
       " (2010, 119681.707),\n",
       " (2009, 118759.869)]"
      ]
     },
     "execution_count": 30,
     "metadata": {},
     "output_type": "execute_result"
    }
   ],
   "source": [
    "media_p = residencial.map(lambda x: (x[1], int(x[-2]), float(x[-1]))).filter(lambda y: y[0] == 'RM')\n",
    "precio_media_año= media_p.map(lambda x: (x[1], x[2])).combineByKey( \n",
    "    (lambda x: (x, 1)), \n",
    "    (lambda y, h: (y[0]+h, y[1]+1)), \n",
    "    (lambda z, j: (z[0]+j[0], z[1]+j[1]))) \n",
    "media_media_año = precio_media_año.map(lambda x: (x[0], round(x[1][0]/x[1][1], 3)))\n",
    "media_media_año.sortBy(lambda x: x[1], False).take(5)\n",
    "# mas caro en 2008"
   ]
  },
  {
   "cell_type": "markdown",
   "metadata": {},
   "source": [
    "Media de metros cuadrados de los pisos vendidos en cada año para la intensidad media"
   ]
  },
  {
   "cell_type": "code",
   "execution_count": 31,
   "metadata": {
    "scrolled": true
   },
   "outputs": [
    {
     "data": {
      "text/plain": [
       "[(2007, 625.676),\n",
       " (2008, 623.896),\n",
       " (2010, 586.317),\n",
       " (2006, 575.223),\n",
       " (2009, 552.757)]"
      ]
     },
     "execution_count": 31,
     "metadata": {},
     "output_type": "execute_result"
    }
   ],
   "source": [
    "media_s = residencial.map(lambda x: (x[1], int(x[-2]), (float(x[3])/10.76))).filter(lambda y: y[0] == 'RM')\n",
    "m2_media_año= media_s.map(lambda x: (x[1], x[2])).combineByKey( \n",
    "    (lambda x: (x, 1)), \n",
    "    (lambda y, h: (y[0]+h, y[1]+1)), \n",
    "    (lambda z, j: (z[0]+j[0], z[1]+j[1]))) \n",
    "media_media_año_m2 = m2_media_año.map(lambda x: (x[0], round(x[1][0]/x[1][1], 3)))\n",
    "media_media_año_m2.sortBy(lambda x: x[1], False).take(5)\n",
    "# Mas grande en 2007"
   ]
  },
  {
   "cell_type": "markdown",
   "metadata": {},
   "source": [
    "BAJA"
   ]
  },
  {
   "cell_type": "markdown",
   "metadata": {},
   "source": [
    "Media de precio por año en la zona de intensidad baja"
   ]
  },
  {
   "cell_type": "code",
   "execution_count": 32,
   "metadata": {},
   "outputs": [
    {
     "data": {
      "text/plain": [
       "[(2006, 193654.148),\n",
       " (2007, 193399.98),\n",
       " (2009, 190455.551),\n",
       " (2008, 189885.585),\n",
       " (2010, 184978.419)]"
      ]
     },
     "execution_count": 32,
     "metadata": {},
     "output_type": "execute_result"
    }
   ],
   "source": [
    "baja_p = residencial.map(lambda x: (x[1], int(x[-2]), float(x[-1]))).filter(lambda y: y[0] == 'RL')\n",
    "precio_baja_año= baja_p.map(lambda x: (x[1], x[2])).combineByKey( \n",
    "    (lambda x: (x, 1)), \n",
    "    (lambda y, h: (y[0]+h, y[1]+1)), \n",
    "    (lambda z, j: (z[0]+j[0], z[1]+j[1]))) \n",
    "media_baja_año = precio_baja_año.map(lambda x: (x[0], round(x[1][0]/x[1][1], 3)))\n",
    "media_baja_año.sortBy(lambda x: x[1], False).take(5)\n",
    "#mas caro en 2006"
   ]
  },
  {
   "cell_type": "markdown",
   "metadata": {},
   "source": [
    "Media de metros cuadrados de los pisos vendidos en cada año para la intensidad baja"
   ]
  },
  {
   "cell_type": "code",
   "execution_count": 33,
   "metadata": {
    "scrolled": true
   },
   "outputs": [
    {
     "data": {
      "text/plain": [
       "[(2007, 1060.064),\n",
       " (2008, 1048.035),\n",
       " (2006, 1043.194),\n",
       " (2010, 1011.727),\n",
       " (2009, 1002.549)]"
      ]
     },
     "execution_count": 33,
     "metadata": {},
     "output_type": "execute_result"
    }
   ],
   "source": [
    "baja_s = residencial.map(lambda x: (x[1], int(x[-2]), (float(x[3])/10.76))).filter(lambda y: y[0] == 'RL')\n",
    "m2_baja_año= baja_s.map(lambda x: (x[1], x[2])).combineByKey( \n",
    "    (lambda x: (x, 1)), \n",
    "    (lambda y, h: (y[0]+h, y[1]+1)), \n",
    "    (lambda z, j: (z[0]+j[0], z[1]+j[1]))) \n",
    "media_baja_año_m2 = m2_baja_año.map(lambda x: (x[0], round(x[1][0]/x[1][1], 3)))\n",
    "media_baja_año_m2.sortBy(lambda x: x[1], False).take(5)\n",
    "# Mas grande en 2007"
   ]
  },
  {
   "cell_type": "markdown",
   "metadata": {},
   "source": [
    "La pricipal conclusion que saco de este apartado es que los pisos son mucho mas grandes en las zonas de intensidad baja"
   ]
  },
  {
   "cell_type": "markdown",
   "metadata": {},
   "source": [
    "## 7. ¿Podrías decirme el total de recaudación de las casas de revistimiento (Mas Vnr Type) de piedra con respecto a las de ladrillo? ¿Hay diferencia significativa?"
   ]
  },
  {
   "cell_type": "markdown",
   "metadata": {},
   "source": [
    "Vamos a entender la recaudacion como el precio, por lo que compararemos las casas de piedra y las de ladrillo para conocer su precio medio, y si cuanto dista este\n"
   ]
  },
  {
   "cell_type": "code",
   "execution_count": 34,
   "metadata": {},
   "outputs": [
    {
     "data": {
      "text/plain": [
       "['None', '', 'BrkCmn', 'CBlock', 'Stone']"
      ]
     },
     "execution_count": 34,
     "metadata": {},
     "output_type": "execute_result"
    }
   ],
   "source": [
    "# Vemos primero los tipos de material para hacer la casa\n",
    "residencial.map(lambda x: x[9]).distinct().take(5) \n",
    "# solo compararemos 'BrkCmn' (ladrillo) y 'BrkCmn' (piedra)"
   ]
  },
  {
   "cell_type": "code",
   "execution_count": 35,
   "metadata": {},
   "outputs": [
    {
     "name": "stdout",
     "output_type": "stream",
     "text": [
      "La recaudacion total de los pisos de ladrillo es de 3504975.0 dolares\n",
      "La recaudacion total de los pisos de piedra es de 59855477.0 dolares\n"
     ]
    }
   ],
   "source": [
    "recaudacion_ladrillo = residencial.filter(lambda x: x[9] == 'BrkCmn').map(lambda y: float(y[-1])).collect()\n",
    "print(f'La recaudacion total de los pisos de ladrillo es de {pd.Series(recaudacion_ladrillo).sum()} dolares')\n",
    "recaudacion_piedra = residencial.filter(lambda x: x[9] == 'Stone').map(lambda y: float(y[-1])).collect()\n",
    "print(f'La recaudacion total de los pisos de piedra es de {pd.Series(recaudacion_piedra).sum()} dolares')"
   ]
  },
  {
   "cell_type": "code",
   "execution_count": 36,
   "metadata": {},
   "outputs": [
    {
     "data": {
      "text/plain": [
       "[('BrkCmn', (3504975.0, 25)), ('Stone', (59855477.0, 228))]"
      ]
     },
     "execution_count": 36,
     "metadata": {},
     "output_type": "execute_result"
    }
   ],
   "source": [
    "tipo_casa = residencial.filter(lambda x: (x[9] == 'BrkCmn' or x[9] == 'Stone')).map(lambda y: (y[9], float(y[-1])))\n",
    "recaudacion = tipo_casa.combineByKey( \n",
    "    (lambda x: (x, 1)), \n",
    "    (lambda y, h: (y[0]+h, y[1]+1)), \n",
    "    (lambda z, j: (z[0]+j[0], z[1]+j[1]))) \n",
    "recaudacion.take(2)"
   ]
  },
  {
   "cell_type": "markdown",
   "metadata": {},
   "source": [
    "+ Henos sacado de dos formas la recaudacion, la segunda mas completa ya que tambien vemos cuantas se han vendido de cada tipo\n",
    "+ Vemos que la recaudacion es de 17 veces mas en los pisos de piedra. Es cierto que hay muchas mas ventas de pisos de piedra"
   ]
  },
  {
   "cell_type": "markdown",
   "metadata": {},
   "source": [
    "A continuacion calculamos el precio medio de la casa para cada tipo de construccion"
   ]
  },
  {
   "cell_type": "code",
   "execution_count": 37,
   "metadata": {},
   "outputs": [
    {
     "data": {
      "text/plain": [
       "[('BrkCmn', 140199.0)]"
      ]
     },
     "execution_count": 37,
     "metadata": {},
     "output_type": "execute_result"
    }
   ],
   "source": [
    "ladrillo = residencial.map(lambda x: (x[9], float(x[-1]))).filter(lambda y: y[0] == 'BrkCmn')\n",
    "ladrillo_c = ladrillo.combineByKey( \n",
    "    (lambda x: (x, 1)), \n",
    "    (lambda y, h: (y[0]+h, y[1]+1)), \n",
    "    (lambda z, j: (z[0]+j[0], z[1]+j[1]))) \n",
    "ladrillo_m = ladrillo_c.map(lambda x: (x[0], round(x[1][0]/x[1][1], 3)))\n",
    "ladrillo_m.take(1)"
   ]
  },
  {
   "cell_type": "code",
   "execution_count": 38,
   "metadata": {},
   "outputs": [
    {
     "data": {
      "text/plain": [
       "[('Stone', 262524.022)]"
      ]
     },
     "execution_count": 38,
     "metadata": {},
     "output_type": "execute_result"
    }
   ],
   "source": [
    "# igual para la piedra\n",
    "piedra = residencial.map(lambda x: (x[9], float(x[-1]))).filter(lambda y: y[0] == 'Stone')\n",
    "piedra_c = piedra.combineByKey( \n",
    "    (lambda x: (x, 1)), \n",
    "    (lambda y, h: (y[0]+h, y[1]+1)), \n",
    "    (lambda z, j: (z[0]+j[0], z[1]+j[1]))) \n",
    "piedra_m = piedra_c.map(lambda x: (x[0], round(x[1][0]/x[1][1], 3)))\n",
    "piedra_m.take(1)"
   ]
  },
  {
   "cell_type": "markdown",
   "metadata": {},
   "source": [
    "Vemos que es casi el doble el precio de los pisos de piedra"
   ]
  },
  {
   "cell_type": "markdown",
   "metadata": {},
   "source": [
    "## 8. ¿Cuánto son más caras las viviendas con 2 cocinas, con 2 o más plazas de garaje que las que tienen 1 cocina y 1 plaza de garaje? Comparar medias y cuartiles de ambos casos"
   ]
  },
  {
   "cell_type": "code",
   "execution_count": 39,
   "metadata": {},
   "outputs": [
    {
     "data": {
      "text/plain": [
       "['4', '', '3', '0', '2', '1', '5']"
      ]
     },
     "execution_count": 39,
     "metadata": {},
     "output_type": "execute_result"
    }
   ],
   "source": [
    "# Despues de obtener diferentes errores vemos que la variable numero de garajes presenta un valor vacio por lo que lo eliminamos\n",
    "residencial.map(lambda x: x[21]).distinct().take(7)"
   ]
  },
  {
   "cell_type": "code",
   "execution_count": 40,
   "metadata": {},
   "outputs": [],
   "source": [
    "residencial = residencial.filter(lambda x: x[21] != '')"
   ]
  },
  {
   "cell_type": "markdown",
   "metadata": {},
   "source": [
    "* 2 cocinas y 2 o mas plazas de garajes"
   ]
  },
  {
   "cell_type": "code",
   "execution_count": 41,
   "metadata": {},
   "outputs": [
    {
     "name": "stdout",
     "output_type": "stream",
     "text": [
      "El precio medio de los pisos de estas caracteristicas es de  145124.279 dolares\n"
     ]
    }
   ],
   "source": [
    "# Primero sacamos la media \n",
    "ricos = residencial.filter(lambda x: (int(x[18]) == 2 and int(x[21]) >= 2)).map(lambda y: float(y[-1]))\n",
    "print(f'El precio medio de los pisos de estas caracteristicas es de  {round(ricos.mean(), 3)} dolares')"
   ]
  },
  {
   "cell_type": "code",
   "execution_count": 42,
   "metadata": {},
   "outputs": [
    {
     "data": {
      "text/plain": [
       "0.25    118973.0\n",
       "0.50    141800.0\n",
       "0.75    158500.0\n",
       "0.99    269500.0\n",
       "dtype: float64"
      ]
     },
     "execution_count": 42,
     "metadata": {},
     "output_type": "execute_result"
    }
   ],
   "source": [
    "# Estos serian los cuatiles para los pisos de dos cocinas y 2 o mas plazas de garaje\n",
    "ricos_l = ricos.collect()\n",
    "ricos_l = pd.Series(ricos_l)\n",
    "ricos_l.quantile([0.25,0.5,0.75,0.99])"
   ]
  },
  {
   "cell_type": "markdown",
   "metadata": {},
   "source": [
    "* 1 cocinas y 1 plaza de garajes"
   ]
  },
  {
   "cell_type": "code",
   "execution_count": 43,
   "metadata": {},
   "outputs": [
    {
     "name": "stdout",
     "output_type": "stream",
     "text": [
      "El precio medio de los pisos de estas caracteristicas es de  128121.993 dolares\n"
     ]
    }
   ],
   "source": [
    "# Primero sacamos la media \n",
    "pobres = residencial.filter(lambda x: (int(x[18]) == 1 and int(x[21]) == 1)).map(lambda y: float(y[-1]))\n",
    "print(f'El precio medio de los pisos de estas caracteristicas es de  {round(pobres.mean(), 3)} dolares')"
   ]
  },
  {
   "cell_type": "code",
   "execution_count": 44,
   "metadata": {},
   "outputs": [
    {
     "data": {
      "text/plain": [
       "0.25    111625.0\n",
       "0.50    128000.0\n",
       "0.75    142062.5\n",
       "0.99    232380.0\n",
       "dtype: float64"
      ]
     },
     "execution_count": 44,
     "metadata": {},
     "output_type": "execute_result"
    }
   ],
   "source": [
    "pobres_l = pobres.collect()\n",
    "pobres_l = pd.Series(pobres_l)\n",
    "pobres_l.quantile([0.25,0.5,0.75,0.99])"
   ]
  },
  {
   "cell_type": "code",
   "execution_count": 45,
   "metadata": {},
   "outputs": [
    {
     "data": {
      "text/plain": [
       "'Observamos que en media los pisos de 2 cocinas y 2 o mas plazas de garaje son 1.133 mas caros'"
      ]
     },
     "execution_count": 45,
     "metadata": {},
     "output_type": "execute_result"
    }
   ],
   "source": [
    "f'Observamos que en media los pisos de 2 cocinas y 2 o mas plazas de garaje son {round(ricos.mean()/pobres.mean(), 3)} mas caros'"
   ]
  },
  {
   "cell_type": "markdown",
   "metadata": {},
   "source": [
    "## 9. (COMPLEMENTARIA) Estudiar la relación entre el precio y el número de Garajes. (Recomiendo segmentar precio por cuartiles y estudiar el número de casos coincidentes)"
   ]
  },
  {
   "cell_type": "markdown",
   "metadata": {},
   "source": [
    "Para este ejercicio realizaremos un grafico de dispersion y calcularemos el coeficiente de correlacion de pearson\n"
   ]
  },
  {
   "cell_type": "code",
   "execution_count": 46,
   "metadata": {},
   "outputs": [],
   "source": [
    "Garaje = residencial.map(lambda x: int(x[21])).collect()\n",
    "Precio = residencial.map(lambda x: float(x[-1])).collect()"
   ]
  },
  {
   "cell_type": "code",
   "execution_count": 47,
   "metadata": {},
   "outputs": [
    {
     "data": {
      "image/png": "[encoded data removed]",
      "text/plain": [
       "<Figure size 864x720 with 1 Axes>"
      ]
     },
     "metadata": {
      "needs_background": "light"
     },
     "output_type": "display_data"
    }
   ],
   "source": [
    "plt.figure(figsize = (12, 10))\n",
    "sns.scatterplot(Garaje, Precio)\n",
    "plt.title('N_garajes VS Precio')\n",
    "plt.xlabel('N_garajes')\n",
    "plt.ylabel('Precio');"
   ]
  },
  {
   "cell_type": "code",
   "execution_count": 48,
   "metadata": {},
   "outputs": [
    {
     "data": {
      "text/plain": [
       "array([[1.        , 0.64457463],\n",
       "       [0.64457463, 1.        ]])"
      ]
     },
     "execution_count": 48,
     "metadata": {},
     "output_type": "execute_result"
    }
   ],
   "source": [
    "# Matriz de correlacion\n",
    "np.corrcoef(Garaje, Precio)"
   ]
  },
  {
   "cell_type": "markdown",
   "metadata": {},
   "source": [
    "+ Observamos que la relacion podria ser cuadratica, ya que gast 3 plazas de garaje el precio aumenta con esta pero despues sisminuye.\n",
    "+ La corrlacion es de 0.64"
   ]
  },
  {
   "cell_type": "markdown",
   "metadata": {},
   "source": [
    "## 10. (COMPLEMENTARIA) Las 10 viviendas con mejores servicios y mejor precio."
   ]
  },
  {
   "cell_type": "markdown",
   "metadata": {},
   "source": [
    "Este ejercicio le vamos a orientar de la siguiente forma:\n",
    "\n",
    "\n",
    "+ Solo nos quedaremos con los pisos de excelentes condiciones en alguna de las siguientes condicones: en materiales, en sotano, calefaccion, con aire acondicionado, garaje y piscina.\n",
    "+ Y seleccionaremos aquellos con memenor precio por m2"
   ]
  },
  {
   "cell_type": "code",
   "execution_count": 49,
   "metadata": {},
   "outputs": [],
   "source": [
    "excelente = residencial.filter(lambda x: (int(x[6]) >= 8 or x[11] == 'Ex' or x[13] == 'Ex' or x[14] == 'Y' or x[19] == 'Ex' or x[25] == 'Ex'))"
   ]
  },
  {
   "cell_type": "code",
   "execution_count": 50,
   "metadata": {},
   "outputs": [
    {
     "data": {
      "text/plain": [
       "[('1571', 14.961144175877564),\n",
       " ('2116', 18.74540880503145),\n",
       " ('957', 18.746080048317033),\n",
       " ('1499', 26.94757931973641),\n",
       " ('2072', 28.220132176571223)]"
      ]
     },
     "execution_count": 50,
     "metadata": {},
     "output_type": "execute_result"
    }
   ],
   "source": [
    "c_m2 = excelente.map(lambda x: (x[0], (float(x[-1])/(float(x[3])/10.76))))\n",
    "c_m2.sortBy(lambda x: x[1]).take(5)"
   ]
  },
  {
   "cell_type": "markdown",
   "metadata": {},
   "source": [
    "Estos serian los 5 pisos con mejor precio por m2 segun nuestras condicones"
   ]
  }
 ],
 "metadata": {
  "kernelspec": {
   "display_name": "Python 3",
   "language": "python",
   "name": "python3"
  },
  "language_info": {
   "codemirror_mode": {
    "name": "ipython",
    "version": 3
   },
   "file_extension": ".py",
   "mimetype": "text/x-python",
   "name": "python",
   "nbconvert_exporter": "python",
   "pygments_lexer": "ipython3",
   "version": "3.8.3"
  },
  "toc": {
   "base_numbering": 1,
   "nav_menu": {},
   "number_sections": true,
   "sideBar": true,
   "skip_h1_title": false,
   "title_cell": "Table of Contents",
   "title_sidebar": "Contents",
   "toc_cell": false,
   "toc_position": {},
   "toc_section_display": true,
   "toc_window_display": true
  }
 },
 "nbformat": 4,
 "nbformat_minor": 2
}
